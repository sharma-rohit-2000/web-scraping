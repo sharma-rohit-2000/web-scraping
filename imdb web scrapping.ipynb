{
 "cells": [
  {
   "cell_type": "markdown",
   "id": "ccd98ce6",
   "metadata": {},
   "source": [
    "# Creating Data Frame by scraping data from imdb website"
   ]
  },
  {
   "cell_type": "raw",
   "id": "6ed21c67",
   "metadata": {},
   "source": [
    "In the below line we have imported the some basic module which is required for scraping"
   ]
  },
  {
   "cell_type": "code",
   "execution_count": 1,
   "id": "1fbbf725",
   "metadata": {},
   "outputs": [],
   "source": [
    "from bs4 import BeautifulSoup as b\n",
    "import requests\n",
    "import pandas as pd\n",
    "import numpy as np\n"
   ]
  },
  {
   "cell_type": "raw",
   "id": "ae0950b7",
   "metadata": {},
   "source": [
    "In the following code we have extracted the web address from i have to extract the data  "
   ]
  },
  {
   "cell_type": "code",
   "execution_count": 2,
   "id": "b43f1ce6",
   "metadata": {},
   "outputs": [],
   "source": [
    "url ='https://www.imdb.com/search/title/?count=100&groups=top_1000&sort=user_rating'\n",
    "req=requests.get(url)\n",
    "content=b(req.content,'html.parser')"
   ]
  },
  {
   "cell_type": "markdown",
   "id": "a992d8dd",
   "metadata": {},
   "source": [
    "In the following code i have created the some list in which i will store the value"
   ]
  },
  {
   "cell_type": "code",
   "execution_count": 3,
   "id": "717e29f4",
   "metadata": {},
   "outputs": [],
   "source": [
    "movie_name=[]\n",
    "year=[]\n",
    "rating=[]\n",
    "metascore=[]\n",
    "vote=[]\n",
    "time=[]\n",
    "genre=[]"
   ]
  },
  {
   "cell_type": "raw",
   "id": "e2e8728e",
   "metadata": {},
   "source": [
    "In the following code we have used the for loop as it will save my time and\n",
    "html basic concept is require for extracting the values"
   ]
  },
  {
   "cell_type": "code",
   "execution_count": 25,
   "id": "021091ab",
   "metadata": {},
   "outputs": [],
   "source": [
    "\n",
    "name=content.find_all('div',{'class':\"lister-item mode-advanced\"})\n",
    "for  i in name:\n",
    "    name=i.h3.a.text\n",
    "    movie_name.append(name)\n",
    "    \n",
    "    years=i.h3.find('span',{'class':\"lister-item-year text-muted unbold\"}).text.replace('(','').replace(')','').replace('I',' ')\n",
    "    year.append(years)\n",
    "    \n",
    "    t=i.p.find('span',{'class':\"runtime\"}).text\n",
    "    time.append(t)\n",
    "    \n",
    "    rat=i.find('div',{'class':\"inline-block ratings-imdb-rating\"}).text.replace('\\n\\n','  ').replace('\\n',' ')\n",
    "    rating.append(rat)\n",
    "    \n",
    "    m=i.find('span',{'class':\"metascore\"}).text if  i.find('span',{'class':\"metascore\"}) else '^^'\n",
    "    metascore.append(m)\n",
    "    \n",
    "    g=i.p.find('span' ,{'class':\"genre\"}).text.replace('\\n', ' ')\n",
    "    genre.append(g)\n",
    "    \n",
    "    v=i.find_all('span',{'name':\"nv\"})\n",
    "    vote.append(v[0].text)"
   ]
  },
  {
   "cell_type": "raw",
   "id": "7c5543b1",
   "metadata": {},
   "source": [
    "In the following code i have created the dictionary of column names and values "
   ]
  },
  {
   "cell_type": "code",
   "execution_count": 26,
   "id": "28248a69",
   "metadata": {},
   "outputs": [],
   "source": [
    "df=pd.DataFrame({'Movie':movie_name,'Release Year':year,'Duration':time,'Rating':rating,'MetaScore':metascore,'Genre':genre,'Votes':vote,\n",
    "    })"
   ]
  },
  {
   "cell_type": "code",
   "execution_count": 27,
   "id": "96dede24",
   "metadata": {},
   "outputs": [
    {
     "data": {
      "text/html": [
       "<div>\n",
       "<style scoped>\n",
       "    .dataframe tbody tr th:only-of-type {\n",
       "        vertical-align: middle;\n",
       "    }\n",
       "\n",
       "    .dataframe tbody tr th {\n",
       "        vertical-align: top;\n",
       "    }\n",
       "\n",
       "    .dataframe thead th {\n",
       "        text-align: right;\n",
       "    }\n",
       "</style>\n",
       "<table border=\"1\" class=\"dataframe\">\n",
       "  <thead>\n",
       "    <tr style=\"text-align: right;\">\n",
       "      <th></th>\n",
       "      <th>Movie</th>\n",
       "      <th>Release Year</th>\n",
       "      <th>Duration</th>\n",
       "      <th>Rating</th>\n",
       "      <th>MetaScore</th>\n",
       "      <th>Genre</th>\n",
       "      <th>Votes</th>\n",
       "    </tr>\n",
       "  </thead>\n",
       "  <tbody>\n",
       "    <tr>\n",
       "      <th>0</th>\n",
       "      <td>The Shawshank Redemption</td>\n",
       "      <td>1994</td>\n",
       "      <td>142 min</td>\n",
       "      <td>9.3</td>\n",
       "      <td>80</td>\n",
       "      <td>Drama</td>\n",
       "      <td>2,427,622</td>\n",
       "    </tr>\n",
       "    <tr>\n",
       "      <th>1</th>\n",
       "      <td>The Godfather</td>\n",
       "      <td>1972</td>\n",
       "      <td>175 min</td>\n",
       "      <td>9.2</td>\n",
       "      <td>100</td>\n",
       "      <td>Crime, Drama</td>\n",
       "      <td>1,680,436</td>\n",
       "    </tr>\n",
       "    <tr>\n",
       "      <th>2</th>\n",
       "      <td>Soorarai Pottru</td>\n",
       "      <td>2020</td>\n",
       "      <td>153 min</td>\n",
       "      <td>9.1</td>\n",
       "      <td>^^</td>\n",
       "      <td>Drama</td>\n",
       "      <td>85,593</td>\n",
       "    </tr>\n",
       "    <tr>\n",
       "      <th>3</th>\n",
       "      <td>The Dark Knight</td>\n",
       "      <td>2008</td>\n",
       "      <td>152 min</td>\n",
       "      <td>9.0</td>\n",
       "      <td>84</td>\n",
       "      <td>Action, Crime, Drama</td>\n",
       "      <td>2,383,425</td>\n",
       "    </tr>\n",
       "    <tr>\n",
       "      <th>4</th>\n",
       "      <td>The Godfather: Part II</td>\n",
       "      <td>1974</td>\n",
       "      <td>202 min</td>\n",
       "      <td>9.0</td>\n",
       "      <td>90</td>\n",
       "      <td>Crime, Drama</td>\n",
       "      <td>1,166,359</td>\n",
       "    </tr>\n",
       "    <tr>\n",
       "      <th>...</th>\n",
       "      <td>...</td>\n",
       "      <td>...</td>\n",
       "      <td>...</td>\n",
       "      <td>...</td>\n",
       "      <td>...</td>\n",
       "      <td>...</td>\n",
       "      <td>...</td>\n",
       "    </tr>\n",
       "    <tr>\n",
       "      <th>295</th>\n",
       "      <td>Kimetsu no Yaiba: Mugen Ressha-Hen</td>\n",
       "      <td>2020</td>\n",
       "      <td>117 min</td>\n",
       "      <td>8.3</td>\n",
       "      <td>75</td>\n",
       "      <td>Animation, Action, Adventure</td>\n",
       "      <td>29,855</td>\n",
       "    </tr>\n",
       "    <tr>\n",
       "      <th>296</th>\n",
       "      <td>The Father</td>\n",
       "      <td>2020</td>\n",
       "      <td>97 min</td>\n",
       "      <td>8.3</td>\n",
       "      <td>88</td>\n",
       "      <td>Drama</td>\n",
       "      <td>81,583</td>\n",
       "    </tr>\n",
       "    <tr>\n",
       "      <th>297</th>\n",
       "      <td>Babam ve Oglum</td>\n",
       "      <td>2005</td>\n",
       "      <td>112 min</td>\n",
       "      <td>8.3</td>\n",
       "      <td>^^</td>\n",
       "      <td>Drama, Family</td>\n",
       "      <td>81,819</td>\n",
       "    </tr>\n",
       "    <tr>\n",
       "      <th>298</th>\n",
       "      <td>Inglourious Basterds</td>\n",
       "      <td>2009</td>\n",
       "      <td>153 min</td>\n",
       "      <td>8.3</td>\n",
       "      <td>69</td>\n",
       "      <td>Adventure, Drama, War</td>\n",
       "      <td>1,313,551</td>\n",
       "    </tr>\n",
       "    <tr>\n",
       "      <th>299</th>\n",
       "      <td>Eternal Sunshine of the Spotless Mind</td>\n",
       "      <td>2004</td>\n",
       "      <td>108 min</td>\n",
       "      <td>8.3</td>\n",
       "      <td>89</td>\n",
       "      <td>Drama, Romance, Sci-Fi</td>\n",
       "      <td>937,751</td>\n",
       "    </tr>\n",
       "  </tbody>\n",
       "</table>\n",
       "<p>300 rows × 7 columns</p>\n",
       "</div>"
      ],
      "text/plain": [
       "                                     Movie Release Year Duration  Rating  \\\n",
       "0                 The Shawshank Redemption         1994  142 min    9.3    \n",
       "1                            The Godfather         1972  175 min    9.2    \n",
       "2                          Soorarai Pottru         2020  153 min    9.1    \n",
       "3                          The Dark Knight         2008  152 min    9.0    \n",
       "4                   The Godfather: Part II         1974  202 min    9.0    \n",
       "..                                     ...          ...      ...     ...   \n",
       "295     Kimetsu no Yaiba: Mugen Ressha-Hen         2020  117 min    8.3    \n",
       "296                             The Father         2020   97 min    8.3    \n",
       "297                         Babam ve Oglum         2005  112 min    8.3    \n",
       "298                   Inglourious Basterds         2009  153 min    8.3    \n",
       "299  Eternal Sunshine of the Spotless Mind         2004  108 min    8.3    \n",
       "\n",
       "       MetaScore                                      Genre      Votes  \n",
       "0     80                                  Drama              2,427,622  \n",
       "1    100                           Crime, Drama              1,680,436  \n",
       "2             ^^                          Drama                 85,593  \n",
       "3     84                   Action, Crime, Drama              2,383,425  \n",
       "4     90                           Crime, Drama              1,166,359  \n",
       "..           ...                                        ...        ...  \n",
       "295   75           Animation, Action, Adventure                 29,855  \n",
       "296   88                                  Drama                 81,583  \n",
       "297           ^^                  Drama, Family                 81,819  \n",
       "298   69                  Adventure, Drama, War              1,313,551  \n",
       "299   89                 Drama, Romance, Sci-Fi                937,751  \n",
       "\n",
       "[300 rows x 7 columns]"
      ]
     },
     "execution_count": 27,
     "metadata": {},
     "output_type": "execute_result"
    }
   ],
   "source": [
    "df"
   ]
  },
  {
   "cell_type": "code",
   "execution_count": 28,
   "id": "fccc1dd3",
   "metadata": {},
   "outputs": [
    {
     "name": "stdout",
     "output_type": "stream",
     "text": [
      "<class 'pandas.core.frame.DataFrame'>\n",
      "RangeIndex: 300 entries, 0 to 299\n",
      "Data columns (total 7 columns):\n",
      " #   Column        Non-Null Count  Dtype \n",
      "---  ------        --------------  ----- \n",
      " 0   Movie         300 non-null    object\n",
      " 1   Release Year  300 non-null    object\n",
      " 2   Duration      300 non-null    object\n",
      " 3   Rating        300 non-null    object\n",
      " 4   MetaScore     281 non-null    object\n",
      " 5   Genre         300 non-null    object\n",
      " 6   Votes         300 non-null    object\n",
      "dtypes: object(7)\n",
      "memory usage: 16.5+ KB\n"
     ]
    }
   ],
   "source": [
    "df.info()"
   ]
  },
  {
   "cell_type": "raw",
   "id": "07d7bb10",
   "metadata": {},
   "source": [
    "As we can see there numeric still it is showing datatype object show either it should be in float or integer\n",
    "so we have used some EDA method on the dataframe\n"
   ]
  },
  {
   "cell_type": "code",
   "execution_count": 29,
   "id": "895d5d51",
   "metadata": {},
   "outputs": [],
   "source": [
    "df['Release Year']=df['Release Year'].astype(float)# here we have changed the datatype"
   ]
  },
  {
   "cell_type": "code",
   "execution_count": 30,
   "id": "19754dfc",
   "metadata": {},
   "outputs": [],
   "source": [
    "df.Rating=df.Rating.astype(float)# here we have changed the datatype"
   ]
  },
  {
   "cell_type": "code",
   "execution_count": 31,
   "id": "0d8d455d",
   "metadata": {},
   "outputs": [],
   "source": [
    "df['MetaScore'].replace('^^',np.nan,inplace=True)#here we replaced the symbol by nan "
   ]
  },
  {
   "cell_type": "code",
   "execution_count": 38,
   "id": "1120df26",
   "metadata": {},
   "outputs": [],
   "source": [
    "#here we filled mean value to nan values\n",
    "\n",
    "df.MetaScore=df.MetaScore.astype(float)\n",
    "n=df.MetaScore.mean()\n",
    "df.MetaScore.fillna(n,inplace=True)"
   ]
  },
  {
   "cell_type": "raw",
   "id": "12e18767",
   "metadata": {},
   "source": [
    "After applying all the EDA method we can see info about our dataframe"
   ]
  },
  {
   "cell_type": "code",
   "execution_count": 39,
   "id": "76977648",
   "metadata": {},
   "outputs": [
    {
     "name": "stdout",
     "output_type": "stream",
     "text": [
      "<class 'pandas.core.frame.DataFrame'>\n",
      "RangeIndex: 300 entries, 0 to 299\n",
      "Data columns (total 7 columns):\n",
      " #   Column        Non-Null Count  Dtype  \n",
      "---  ------        --------------  -----  \n",
      " 0   Movie         300 non-null    object \n",
      " 1   Release Year  300 non-null    float64\n",
      " 2   Duration      300 non-null    object \n",
      " 3   Rating        300 non-null    float64\n",
      " 4   MetaScore     300 non-null    float64\n",
      " 5   Genre         300 non-null    object \n",
      " 6   Votes         300 non-null    object \n",
      "dtypes: float64(3), object(4)\n",
      "memory usage: 16.5+ KB\n"
     ]
    }
   ],
   "source": [
    "\n",
    "df.info()"
   ]
  },
  {
   "cell_type": "code",
   "execution_count": null,
   "id": "aa5c8cc4",
   "metadata": {},
   "outputs": [],
   "source": []
  },
  {
   "cell_type": "code",
   "execution_count": null,
   "id": "a5fa6011",
   "metadata": {},
   "outputs": [],
   "source": []
  },
  {
   "cell_type": "code",
   "execution_count": null,
   "id": "05e55ffd",
   "metadata": {},
   "outputs": [],
   "source": []
  },
  {
   "cell_type": "code",
   "execution_count": null,
   "id": "89542889",
   "metadata": {},
   "outputs": [],
   "source": []
  },
  {
   "cell_type": "code",
   "execution_count": null,
   "id": "98d5e7d5",
   "metadata": {},
   "outputs": [],
   "source": []
  }
 ],
 "metadata": {
  "kernelspec": {
   "display_name": "Python 3",
   "language": "python",
   "name": "python3"
  },
  "language_info": {
   "codemirror_mode": {
    "name": "ipython",
    "version": 3
   },
   "file_extension": ".py",
   "mimetype": "text/x-python",
   "name": "python",
   "nbconvert_exporter": "python",
   "pygments_lexer": "ipython3",
   "version": "3.8.8"
  }
 },
 "nbformat": 4,
 "nbformat_minor": 5
}
